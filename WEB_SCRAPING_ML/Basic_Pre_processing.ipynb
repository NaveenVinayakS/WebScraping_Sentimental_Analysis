{
 "cells": [
  {
   "cell_type": "code",
   "execution_count": 1,
   "id": "technological-bankruptcy",
   "metadata": {},
   "outputs": [
    {
     "data": {
      "text/html": [
       "<div>\n",
       "<style scoped>\n",
       "    .dataframe tbody tr th:only-of-type {\n",
       "        vertical-align: middle;\n",
       "    }\n",
       "\n",
       "    .dataframe tbody tr th {\n",
       "        vertical-align: top;\n",
       "    }\n",
       "\n",
       "    .dataframe thead th {\n",
       "        text-align: right;\n",
       "    }\n",
       "</style>\n",
       "<table border=\"1\" class=\"dataframe\">\n",
       "  <thead>\n",
       "    <tr style=\"text-align: right;\">\n",
       "      <th></th>\n",
       "      <th>Comment</th>\n",
       "      <th>Rating</th>\n",
       "    </tr>\n",
       "  </thead>\n",
       "  <tbody>\n",
       "    <tr>\n",
       "      <th>0</th>\n",
       "      <td>From last 5 years my younger brother was using...</td>\n",
       "      <td>5</td>\n",
       "    </tr>\n",
       "    <tr>\n",
       "      <th>1</th>\n",
       "      <td>excellent phone camera is very nice and the st...</td>\n",
       "      <td>4</td>\n",
       "    </tr>\n",
       "    <tr>\n",
       "      <th>2</th>\n",
       "      <td>I have been using the earlier versions of iPho...</td>\n",
       "      <td>4</td>\n",
       "    </tr>\n",
       "    <tr>\n",
       "      <th>3</th>\n",
       "      <td>IMPORTANT NOTICEIf you buy some apple device o...</td>\n",
       "      <td>5</td>\n",
       "    </tr>\n",
       "    <tr>\n",
       "      <th>4</th>\n",
       "      <td>Well, what can I say... iPhone is awesome as e...</td>\n",
       "      <td>5</td>\n",
       "    </tr>\n",
       "  </tbody>\n",
       "</table>\n",
       "</div>"
      ],
      "text/plain": [
       "                                             Comment  Rating\n",
       "0  From last 5 years my younger brother was using...       5\n",
       "1  excellent phone camera is very nice and the st...       4\n",
       "2  I have been using the earlier versions of iPho...       4\n",
       "3  IMPORTANT NOTICEIf you buy some apple device o...       5\n",
       "4  Well, what can I say... iPhone is awesome as e...       5"
      ]
     },
     "execution_count": 1,
     "metadata": {},
     "output_type": "execute_result"
    }
   ],
   "source": [
    "import pandas as pd\n",
    "df = pd.read_csv('scraping.csv')\n",
    "df.head()"
   ]
  },
  {
   "cell_type": "markdown",
   "id": "level-sister",
   "metadata": {},
   "source": [
    "#### Lower case"
   ]
  },
  {
   "cell_type": "code",
   "execution_count": 2,
   "id": "complicated-fraud",
   "metadata": {},
   "outputs": [
    {
     "data": {
      "text/plain": [
       "0    from last 5 years my younger brother was using...\n",
       "1    excellent phone camera is very nice and the st...\n",
       "2    i have been using the earlier versions of ipho...\n",
       "3    important noticeif you buy some apple device o...\n",
       "4    well, what can i say... iphone is awesome as e...\n",
       "Name: Comment, dtype: object"
      ]
     },
     "execution_count": 2,
     "metadata": {},
     "output_type": "execute_result"
    }
   ],
   "source": [
    "df['Comment'] = df['Comment'].apply(lambda x: \" \".join(x.lower() for x in x.split()))\n",
    "df['Comment'].head()"
   ]
  },
  {
   "cell_type": "markdown",
   "id": "parallel-borough",
   "metadata": {},
   "source": [
    "#### Removing Punctuation"
   ]
  },
  {
   "cell_type": "code",
   "execution_count": 3,
   "id": "rational-stuart",
   "metadata": {},
   "outputs": [
    {
     "name": "stderr",
     "output_type": "stream",
     "text": [
      "<ipython-input-3-6fee1c3ed634>:1: FutureWarning: The default value of regex will change from True to False in a future version.\n",
      "  df['Comment'] = df['Comment'].str.replace('[^\\w\\s]','')\n"
     ]
    },
    {
     "data": {
      "text/plain": [
       "0    from last 5 years my younger brother was using...\n",
       "1    excellent phone camera is very nice and the st...\n",
       "2    i have been using the earlier versions of ipho...\n",
       "3    important noticeif you buy some apple device o...\n",
       "4    well what can i say iphone is awesome as expec...\n",
       "Name: Comment, dtype: object"
      ]
     },
     "execution_count": 3,
     "metadata": {},
     "output_type": "execute_result"
    }
   ],
   "source": [
    "df['Comment'] = df['Comment'].str.replace('[^\\w\\s]','')\n",
    "df['Comment'].head()"
   ]
  },
  {
   "cell_type": "markdown",
   "id": "declared-cathedral",
   "metadata": {},
   "source": [
    "#### Removal of Stop Words"
   ]
  },
  {
   "cell_type": "code",
   "execution_count": 4,
   "id": "reported-education",
   "metadata": {},
   "outputs": [
    {
     "data": {
      "text/plain": [
       "0    last 5 years younger brother using iphone 4s b...\n",
       "1    excellent phone camera nice stereo speakers fa...\n",
       "2    using earlier versions iphones therefore great...\n",
       "3    important noticeif buy apple device online spe...\n",
       "4    well say iphone awesome expected added prompt ...\n",
       "Name: Comment, dtype: object"
      ]
     },
     "execution_count": 4,
     "metadata": {},
     "output_type": "execute_result"
    }
   ],
   "source": [
    "from nltk.corpus import stopwords\n",
    "stop = stopwords.words('english')\n",
    "df['Comment'] = df['Comment'].apply(lambda x: \" \".join(x for x in x.split() if x not in stop))\n",
    "df['Comment'].head()"
   ]
  },
  {
   "cell_type": "markdown",
   "id": "cloudy-hindu",
   "metadata": {},
   "source": [
    "#### Common word removal"
   ]
  },
  {
   "cell_type": "code",
   "execution_count": 5,
   "id": "deluxe-potter",
   "metadata": {},
   "outputs": [
    {
     "data": {
      "text/plain": [
       "phone          728\n",
       "good           543\n",
       "camera         390\n",
       "iphone         248\n",
       "flipkart       234\n",
       "delivery       227\n",
       "really         217\n",
       "battery        217\n",
       "awesome        215\n",
       "performance    190\n",
       "dtype: int64"
      ]
     },
     "execution_count": 5,
     "metadata": {},
     "output_type": "execute_result"
    }
   ],
   "source": [
    "freq = pd.Series(' '.join(df['Comment']).split()).value_counts()[:10]\n",
    "freq"
   ]
  },
  {
   "cell_type": "code",
   "execution_count": 6,
   "id": "timely-contamination",
   "metadata": {},
   "outputs": [
    {
     "data": {
      "text/plain": [
       "0    last 5 years younger brother using 4s bought 7...\n",
       "1    excellent nice stereo speakers fantastic gives...\n",
       "2    using earlier versions iphones therefore great...\n",
       "3    important noticeif buy apple device online spe...\n",
       "4    well say expected added prompt great packaging...\n",
       "Name: Comment, dtype: object"
      ]
     },
     "execution_count": 6,
     "metadata": {},
     "output_type": "execute_result"
    }
   ],
   "source": [
    "freq = list(freq.index)\n",
    "df['Comment'] = df['Comment'].apply(lambda x: \" \".join(x for x in x.split() if x not in freq))\n",
    "df['Comment'].head()"
   ]
  },
  {
   "cell_type": "markdown",
   "id": "level-assembly",
   "metadata": {},
   "source": [
    "#### Rare words removal"
   ]
  },
  {
   "cell_type": "code",
   "execution_count": 7,
   "id": "first-cabinet",
   "metadata": {},
   "outputs": [
    {
     "data": {
      "text/plain": [
       "cameraall    1\n",
       "1000         1\n",
       "irregular    1\n",
       "trip         1\n",
       "needed       1\n",
       "mobileits    1\n",
       "modes2       1\n",
       "warm         1\n",
       "ratio        1\n",
       "looking2     1\n",
       "dtype: int64"
      ]
     },
     "execution_count": 7,
     "metadata": {},
     "output_type": "execute_result"
    }
   ],
   "source": [
    "freq = pd.Series(' '.join(df['Comment']).split()).value_counts()[-10:]\n",
    "freq"
   ]
  },
  {
   "cell_type": "code",
   "execution_count": 8,
   "id": "understanding-aurora",
   "metadata": {},
   "outputs": [
    {
     "data": {
      "text/plain": [
       "0    last 5 years younger brother using 4s bought 7...\n",
       "1    excellent nice stereo speakers fantastic gives...\n",
       "2    using earlier versions iphones therefore great...\n",
       "3    important noticeif buy apple device online spe...\n",
       "4    well say expected added prompt great packaging...\n",
       "Name: Comment, dtype: object"
      ]
     },
     "execution_count": 8,
     "metadata": {},
     "output_type": "execute_result"
    }
   ],
   "source": [
    "freq = list(freq.index)\n",
    "df['Comment'] = df['Comment'].apply(lambda x: \" \".join(x for x in x.split() if x not in freq))\n",
    "df['Comment'].head()"
   ]
  },
  {
   "cell_type": "markdown",
   "id": "loaded-melissa",
   "metadata": {},
   "source": [
    "#### Spelling correction"
   ]
  },
  {
   "cell_type": "code",
   "execution_count": 9,
   "id": "forbidden-conversation",
   "metadata": {},
   "outputs": [
    {
     "data": {
      "text/plain": [
       "0    last 5 years younger brother using is bought 7...\n",
       "1    excellent nice sterno speakers fantastic gives...\n",
       "2    using earlier versions phone therefore great c...\n",
       "3    important noticed buy apple device online spec...\n",
       "4    well say expected added prompt great packing t...\n",
       "Name: Comment, dtype: object"
      ]
     },
     "execution_count": 9,
     "metadata": {},
     "output_type": "execute_result"
    }
   ],
   "source": [
    "from textblob import TextBlob\n",
    "df['Comment'][:5].apply(lambda x: str(TextBlob(x).correct()))"
   ]
  },
  {
   "cell_type": "markdown",
   "id": "mineral-ceiling",
   "metadata": {},
   "source": [
    "#### Tokenization"
   ]
  },
  {
   "cell_type": "code",
   "execution_count": 10,
   "id": "alternate-damages",
   "metadata": {},
   "outputs": [
    {
     "data": {
      "text/plain": [
       "WordList(['excellent', 'nice', 'stereo', 'speakers', 'fantastic', 'gives', 'cinematic', 'experience', 'cool', 'retaina', 'display', 'blindly', 'go', 'value', 'money'])"
      ]
     },
     "execution_count": 10,
     "metadata": {},
     "output_type": "execute_result"
    }
   ],
   "source": [
    "TextBlob(df['Comment'][1]).words"
   ]
  },
  {
   "cell_type": "markdown",
   "id": "aggressive-major",
   "metadata": {},
   "source": [
    "#### Stemming"
   ]
  },
  {
   "cell_type": "code",
   "execution_count": 11,
   "id": "printable-charger",
   "metadata": {},
   "outputs": [
    {
     "data": {
      "text/plain": [
       "0    last 5 year younger brother use 4s bought 7 bi...\n",
       "1    excel nice stereo speaker fantast give cinemat...\n",
       "2    use earlier version iphon therefor great chang...\n",
       "3    import noticeif buy appl devic onlin specif ph...\n",
       "4    well say expect ad prompt great packag truli s...\n",
       "Name: Comment, dtype: object"
      ]
     },
     "execution_count": 11,
     "metadata": {},
     "output_type": "execute_result"
    }
   ],
   "source": [
    "from nltk.stem import PorterStemmer\n",
    "st = PorterStemmer()\n",
    "df['Comment'][:5].apply(lambda x: \" \".join([st.stem(word) for word in x.split()]))"
   ]
  },
  {
   "cell_type": "markdown",
   "id": "duplicate-audience",
   "metadata": {},
   "source": [
    "#### Lemmatization"
   ]
  },
  {
   "cell_type": "code",
   "execution_count": 12,
   "id": "stuffed-order",
   "metadata": {},
   "outputs": [
    {
     "data": {
      "text/plain": [
       "0    last 5 year younger brother using 4 bought 7 b...\n",
       "1    excellent nice stereo speaker fantastic give c...\n",
       "2    using earlier version iphones therefore great ...\n",
       "3    important noticeif buy apple device online spe...\n",
       "4    well say expected added prompt great packaging...\n",
       "Name: Comment, dtype: object"
      ]
     },
     "execution_count": 12,
     "metadata": {},
     "output_type": "execute_result"
    }
   ],
   "source": [
    "from textblob import Word\n",
    "df['Comment'] = df['Comment'].apply(lambda x: \" \".join([Word(word).lemmatize() for word in x.split()]))\n",
    "df['Comment'].head()"
   ]
  }
 ],
 "metadata": {
  "kernelspec": {
   "display_name": "Python 3",
   "language": "python",
   "name": "python3"
  },
  "language_info": {
   "codemirror_mode": {
    "name": "ipython",
    "version": 3
   },
   "file_extension": ".py",
   "mimetype": "text/x-python",
   "name": "python",
   "nbconvert_exporter": "python",
   "pygments_lexer": "ipython3",
   "version": "3.8.8"
  }
 },
 "nbformat": 4,
 "nbformat_minor": 5
}
